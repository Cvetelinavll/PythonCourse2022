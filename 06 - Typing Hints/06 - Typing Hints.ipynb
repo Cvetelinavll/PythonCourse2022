{
 "cells": [
  {
   "cell_type": "markdown",
   "metadata": {},
   "source": [
    "# Type Hints"
   ]
  },
  {
   "cell_type": "markdown",
   "metadata": {},
   "source": [
    "## Динамично vs. статично типизиране. Round 2\n",
    "\n",
    "Динамичното типизиране позволява гъвкавост, но това идва и със своите недостатъци от гледна точка на поддръжката и четимостта на кода.\n",
    "\n",
    "Например, ако имаме следната функция:"
   ]
  },
  {
   "cell_type": "code",
   "execution_count": 1,
   "metadata": {},
   "outputs": [],
   "source": [
    "def validate_serial_number(serial_number):\n",
    "    pass  # definition is irrelevant for this example"
   ]
  },
  {
   "cell_type": "markdown",
   "metadata": {},
   "source": [
    "Ако нямаме поглед над имплементацията на функцията (или пък имаме, но не е тривиално да се прецени точно имплементацията с какви типове борави), то тогава как да разберем `serial_number` дали да ѝ го подадем като `int` или `str`? Или пък може да е `list` от `int`-ове дори?\n",
    "\n",
    "Също така, от името на функцията не става много ясно тя какво връща - дали не връща нищо, а само изпълнява проверки и странични ефекти, или пък проверява валидността на номера и връща `bool`, или пък връща някакъв тип за грешка при неуспех, а `None` при успех?"
   ]
  },
  {
   "cell_type": "markdown",
   "metadata": {},
   "source": [
    "## Type Hints and `mypy`"
   ]
  },
  {
   "cell_type": "markdown",
   "metadata": {},
   "source": [
    "От Python 3.5 насам можем да пишем \"подсказки\" за очаквания тип (или очакваните типове, в случай че са повече от един).\n",
    "\n",
    "В случая функцията можем да я анотираме по следния начин:"
   ]
  },
  {
   "cell_type": "code",
   "execution_count": 2,
   "metadata": {},
   "outputs": [],
   "source": [
    "def validate_serial_number(serial_number: str) -> bool:\n",
    "    pass  # ..."
   ]
  },
  {
   "cell_type": "markdown",
   "metadata": {},
   "source": [
    "Трябва да се отбележи, че тези анотации са само hints (\"подсказки\" за програмиста), т.е. не получаваме поведението на статично типизираните езици, тъй като интерпретатора не следи за спазването на анотациите:"
   ]
  },
  {
   "cell_type": "code",
   "execution_count": 4,
   "metadata": {},
   "outputs": [
    {
     "name": "stdout",
     "output_type": "stream",
     "text": [
      "Passing `int`:  3\n",
      "Passing `str`:  12\n"
     ]
    }
   ],
   "source": [
    "def add(a: int, b: int) -> int:\n",
    "    return a + b\n",
    "\n",
    "print(\"Passing `int`: \", add(1, 2))\n",
    "print(\"Passing `str`: \", add(\"1\", \"2\"))"
   ]
  },
  {
   "cell_type": "markdown",
   "metadata": {},
   "source": [
    "Това въпросно следене може да стане чрез т.нар. \"type checkers\". Най-използваният е [mypy](http://mypy-lang.org/).\n",
    "\n",
    "В PyCharm би трябвало по подразбиране да е включено, докато във VS Code може да се включи от настройките на [Python extension-a](https://marketplace.visualstudio.com/items?itemName=ms-python.python):\n",
    "\n",
    "![mypy in VS Code](assets/mypy-vscode.png)\n",
    "\n",
    "При включването на настройката за пръв път би трябвало да се покаже долу вдясно диалогов попъп, от който да може да се инсталира `mypy` автоматично."
   ]
  },
  {
   "cell_type": "markdown",
   "metadata": {},
   "source": [
    "След включването, всяка некоректност ще се показва като грешка във VSCode по подобен начин:\n",
    "\n",
    "![mypy in action](assets/mypy-in-action.png)"
   ]
  },
  {
   "cell_type": "markdown",
   "metadata": {},
   "source": [
    "## Синтаксис и особености на анотациите"
   ]
  },
  {
   "cell_type": "markdown",
   "metadata": {},
   "source": [
    "Анотациите са добавени в Python 3.0 и оригинално са нямали конкретна семантика или общоприета употреба. Понеже са интуитивно удобни за указване на типове, [PEP484](https://peps.python.org/pep-0484/) и [PEP526](https://www.python.org/dev/peps/pep-0526/) предлагат и стандартизират точно тази им употреба.\n",
    "\n",
    "Анотации могат да се добавят към променливи и функции. Те отиват в `__annotations__` списъка на модула или на функцията, респективно. Това означава, че могат и runtime да бъдат достъпни:"
   ]
  },
  {
   "cell_type": "code",
   "execution_count": 8,
   "metadata": {},
   "outputs": [
    {
     "name": "stdout",
     "output_type": "stream",
     "text": [
      "__annotations__ = {'variable': <class 'int'>}\n",
      "function.__annotations__ = {'f': <class 'float'>, 'b': <class 'bool'>, 'return': <class 'int'>}\n"
     ]
    }
   ],
   "source": [
    "variable: int = 42\n",
    "\n",
    "print(f\"{__annotations__ = }\")  # module.__annotations__ keeps the annotations of all variables in the module\n",
    "\n",
    "\n",
    "def function(f: float, b: bool = True) -> int:\n",
    "    return int(f) if b else 0  # this is the most meaningless function ever\n",
    "\n",
    "print(f\"{function.__annotations__ = }\")  # functions have that dunder as well"
   ]
  },
  {
   "cell_type": "markdown",
   "metadata": {},
   "source": [
    "*Забележка*: По общоприета питонска конвенция за стил, интервали около `=` на именованите аргументи се слагат ако има анотация, но се пропускат ако няма:\n",
    "\n",
    "ОК:\n",
    "```python\n",
    "def foo(a: int, b: int = 0) -> int:\n",
    "    return a + b\n",
    "\n",
    "def foo(a, b=0):\n",
    "    return a + b\n",
    "```\n",
    "\n",
    "Not quite OK:\n",
    "\n",
    "```python\n",
    "def foo(a: int, b: int=0) -> int:\n",
    "    return a + b\n",
    "\n",
    "def foo(a, b = 0):\n",
    "    return a + b\n",
    "```"
   ]
  },
  {
   "cell_type": "markdown",
   "metadata": {},
   "source": [
    "*Забележка 2*: Възможна е анотация на имe без да му бъде присвоявана стойност. Опитът за достъп обаче преди да му бъде присвоена такава впоследствие ще доведе до грешка, понеже още не е дефинирана:"
   ]
  },
  {
   "cell_type": "code",
   "execution_count": 13,
   "metadata": {},
   "outputs": [
    {
     "ename": "NameError",
     "evalue": "name 'name' is not defined",
     "output_type": "error",
     "traceback": [
      "\u001b[0;31m---------------------------------------------------------------------------\u001b[0m",
      "\u001b[0;31mNameError\u001b[0m                                 Traceback (most recent call last)",
      "Cell \u001b[0;32mIn [13], line 3\u001b[0m\n\u001b[1;32m      1\u001b[0m name: \u001b[39mstr\u001b[39m\n\u001b[0;32m----> 3\u001b[0m \u001b[39mprint\u001b[39m(name)\n",
      "\u001b[0;31mNameError\u001b[0m: name 'name' is not defined"
     ]
    }
   ],
   "source": [
    "name: str\n",
    "\n",
    "print(name)"
   ]
  },
  {
   "cell_type": "markdown",
   "metadata": {},
   "source": [
    "## Анотиране на различните вградени типове"
   ]
  },
  {
   "cell_type": "markdown",
   "metadata": {},
   "source": [
    "Както видяхме, използваме самият тип за да го анотираме, т.е. `bool`, `int`, `float`, `complex`, `str`, `bytes`, `None` и т.н. са валидни в анотации. (да, `None` освен стойност, е и тип сам по себе си)"
   ]
  },
  {
   "cell_type": "code",
   "execution_count": null,
   "metadata": {},
   "outputs": [],
   "source": [
    "def i_wanna_print(something: str, terminator: str = \"\\n\") -> None:\n",
    "    print(something, terminator=terminator)\n",
    "\n",
    "def extract_nums_from_input_row(row: str) -> list:\n",
    "    return list(map(int, row.split()))"
   ]
  },
  {
   "cell_type": "markdown",
   "metadata": {},
   "source": [
    "Във функцията `extract_nums_from_input_row` в горният пример обаче не знаем всичко за return типа. Знаем, че е `list`, но лист от какво?"
   ]
  },
  {
   "cell_type": "markdown",
   "metadata": {},
   "source": [
    "Проблемът с такива generic типове като `list`, `tuple`, `dict`, `set` и т.н. решаваме като укажем типа на елементите в тях в квадратни скоби. От Python 3.9 насам можем директно да ползваме builtin типовете, но за версии 3.5 до 3.8 вкл. трябва да импортнем подходящите класове от `typing` модула:"
   ]
  },
  {
   "cell_type": "code",
   "execution_count": 11,
   "metadata": {},
   "outputs": [],
   "source": [
    "# Python 3.5 to 3.8\n",
    "\n",
    "from typing import List, Tuple, Dict\n",
    "\n",
    "def extract_nums_from_input_row(row: str) -> List[int]:\n",
    "    return list(map(int, row.split()))\n",
    "\n",
    "def multiply(a: Tuple[int, int, int], b: Tuple[int, int, int]) -> Tuple[int, int, int]:\n",
    "    return sum(x * y for x, y in zip(a, b))\n",
    "\n",
    "def bind_names_to_ages(names: List[str], ages: List[int]) -> Dict[str, int]:\n",
    "    return dict(zip(names, ages))"
   ]
  },
  {
   "cell_type": "code",
   "execution_count": 12,
   "metadata": {},
   "outputs": [],
   "source": [
    "# Python 3.9+\n",
    "\n",
    "def extract_nums_from_input_row(row: str) -> list[int]:\n",
    "    return list(map(int, row.split()))\n",
    "\n",
    "def multiply(a: tuple[int, int, int], b: tuple[int, int, int]) -> tuple[int, int, int]:\n",
    "    return sum(x * y for x, y in zip(a, b))\n",
    "\n",
    "def bind_names_to_ages(names: list[str], ages: list[int]) -> dict[str, int]:\n",
    "    return dict(zip(names, ages))"
   ]
  },
  {
   "cell_type": "markdown",
   "metadata": {},
   "source": [
    "Ако искаме `tuple` да има точно 2 елемента от тип `int` например, можем да го анотираме като `Tuple[int, int]`. Ако искаме да има произволен брой елементи от тип `int`, можем да го анотираме като `Tuple[int, ...]`."
   ]
  },
  {
   "cell_type": "code",
   "execution_count": 31,
   "metadata": {},
   "outputs": [],
   "source": [
    "def calculate_polynomial(coefficients: tuple[float, ...], x: float) -> float:\n",
    "    return sum(k * (x ** n) for n, k in enumerate(reversed(coefficients)))"
   ]
  },
  {
   "cell_type": "markdown",
   "metadata": {},
   "source": [
    "При указване на `*args` и/или `**kwargs` е нужно да укажем само типа на съответните елементи, без `tuple` или `dict`:"
   ]
  },
  {
   "cell_type": "code",
   "execution_count": 32,
   "metadata": {},
   "outputs": [],
   "source": [
    "def calculate_polynomial(*coefficients: float, x: float) -> float:\n",
    "    return sum(k * (x ** n) for n, k in enumerate(reversed(coefficients)))"
   ]
  },
  {
   "cell_type": "markdown",
   "metadata": {},
   "source": [
    "За удобство можем да си създваме alias-и за различни типове, които да ги използваме по-късно:"
   ]
  },
  {
   "cell_type": "code",
   "execution_count": 28,
   "metadata": {},
   "outputs": [],
   "source": [
    "Vector3D = tuple[float, float, float]\n",
    "\n",
    "def multiply(a: Vector3D, b: Vector3D) -> Vector3D:\n",
    "    return sum(x * y for x, y in zip(a, b))"
   ]
  },
  {
   "cell_type": "markdown",
   "metadata": {},
   "source": [
    "В случай, че искаме да анотираме функция, която например подаваме като параметър, ползвамe `Callable`:"
   ]
  },
  {
   "cell_type": "code",
   "execution_count": 38,
   "metadata": {},
   "outputs": [
    {
     "data": {
      "text/plain": [
       "[3, 2, 1]"
      ]
     },
     "execution_count": 38,
     "metadata": {},
     "output_type": "execute_result"
    }
   ],
   "source": [
    "from typing import Callable\n",
    "\n",
    "def bubble_sort(arr: list[int], comparator: Callable[[int, int], bool]) -> list[int]:\n",
    "    arr = arr.copy()\n",
    "    for _ in range(len(arr)):\n",
    "        for j in range(len(arr) - 1):\n",
    "            if not comparator(arr[j], arr[j + 1]):\n",
    "                arr[j], arr[j + 1] = arr[j + 1], arr[j]\n",
    "    return arr\n",
    "\n",
    "bubble_sort([1, 2, 3], lambda x, y: x > y)"
   ]
  },
  {
   "cell_type": "markdown",
   "metadata": {},
   "source": [
    "### `Union` и `Optional`\n",
    "\n",
    "Понякога можем да поддържаме по няколко възможни типа. Целта на `Union` е да \"обедини\" тези типове в един. Например, ако искаме да можем да подаваме и `int` и `str` като аргументи на функция, можем да го анотираме като `Union[int, str]`  или  `Union[str, int]`:"
   ]
  },
  {
   "cell_type": "code",
   "execution_count": 39,
   "metadata": {},
   "outputs": [],
   "source": [
    "from typing import Union\n",
    "\n",
    "def is_serial_number_valid(serial_number: Union[str, int]) -> bool:\n",
    "    serial = str(serial_number)\n",
    "    return (\n",
    "        len(serial) == 10 \n",
    "        and serial.isdigit() \n",
    "        and serial[-1] == sum(map(int, serial[:-1])) % 10\n",
    "    )"
   ]
  },
  {
   "cell_type": "markdown",
   "metadata": {},
   "source": [
    "От Python 3.10 насам можем да използваме оператора `|` вместо `Union`:"
   ]
  },
  {
   "cell_type": "code",
   "execution_count": 47,
   "metadata": {},
   "outputs": [
    {
     "data": {
      "text/plain": [
       "(-3099430.4+370440j)"
      ]
     },
     "execution_count": 47,
     "metadata": {},
     "output_type": "execute_result"
    }
   ],
   "source": [
    "def is_serial_number_valid(serial_number: str | int) -> bool:\n",
    "    serial = str(serial_number)\n",
    "    return (\n",
    "        len(serial) == 10 \n",
    "        and serial.isdigit() \n",
    "        and serial[-1] == sum(map(int, serial[:-1])) % 10\n",
    "    )\n",
    "\n",
    "def calculate_polynomial(*coefficients: int | float | complex, x: int | float | complex) -> complex:\n",
    "    return complex(sum(k * (x ** n) for n, k in enumerate(reversed(coefficients))))\n",
    "\n",
    "calculate_polynomial(-1, 5j, 6.9, 0, 94, x=42)"
   ]
  },
  {
   "cell_type": "markdown",
   "metadata": {},
   "source": [
    "Много често се налага да имаме стойност по подразбиране `None` вместо такава на даден тип или пък да връщаме `None` вместо стойност от даден тип. Това е и идеята на `Optional`, който е тип на практика еквивалентен на `Union` с `None`:"
   ]
  },
  {
   "cell_type": "code",
   "execution_count": 49,
   "metadata": {},
   "outputs": [],
   "source": [
    "import hashlib\n",
    "\n",
    "from typing import Optional\n",
    "\n",
    "def hash_password(password: str, salt: Optional[str] = None) -> bytes:\n",
    "    hash = hashlib.sha256(password.encode())\n",
    "    if salt is not None:\n",
    "        hash.update(salt.encode())\n",
    "    return hash.digest()"
   ]
  },
  {
   "cell_type": "code",
   "execution_count": null,
   "metadata": {},
   "outputs": [],
   "source": [
    "# Equivalent:\n",
    "\n",
    "import hashlib\n",
    "\n",
    "def hash_password(password: str, salt: str | None = None) -> bytes:\n",
    "    hash = hashlib.sha256(password.encode())\n",
    "    if salt is not None:\n",
    "        hash.update(salt.encode())\n",
    "    return hash.digest()"
   ]
  }
 ],
 "metadata": {
  "kernelspec": {
   "display_name": "Python 3.10.6 64-bit",
   "language": "python",
   "name": "python3"
  },
  "language_info": {
   "codemirror_mode": {
    "name": "ipython",
    "version": 3
   },
   "file_extension": ".py",
   "mimetype": "text/x-python",
   "name": "python",
   "nbconvert_exporter": "python",
   "pygments_lexer": "ipython3",
   "version": "3.10.6"
  },
  "orig_nbformat": 4,
  "vscode": {
   "interpreter": {
    "hash": "b0fa6594d8f4cbf19f97940f81e996739fb7646882a419484c72d19e05852a7e"
   }
  }
 },
 "nbformat": 4,
 "nbformat_minor": 2
}
