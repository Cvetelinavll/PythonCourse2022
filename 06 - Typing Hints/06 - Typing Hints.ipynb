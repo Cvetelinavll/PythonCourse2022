{
 "cells": [
  {
   "cell_type": "markdown",
   "metadata": {},
   "source": [
    "# Type Hints"
   ]
  },
  {
   "cell_type": "markdown",
   "metadata": {},
   "source": [
    "## Динамично vs. статично типизиране. Round 2\n",
    "\n",
    "Динамичното типизиране позволява гъвкавост, но това идва и със своите недостатъци от гледна точка на поддръжката и четимостта на кода.\n",
    "\n",
    "Например, ако имаме следната функция:"
   ]
  },
  {
   "cell_type": "code",
   "execution_count": 1,
   "metadata": {},
   "outputs": [],
   "source": [
    "def validate_serial_number(serial_number):\n",
    "    pass  # definition is irrelevant for this example"
   ]
  },
  {
   "cell_type": "markdown",
   "metadata": {},
   "source": [
    "Ако нямаме поглед над имплементацията на функцията (или пък имаме, но не е тривиално да се прецени точно имплементацията с какви типове борави), то тогава как да разберем `serial_number` дали да ѝ го подадем като `int` или `str`? Или пък може да е `list` от `int`-ове дори?\n",
    "\n",
    "Също така, от името на функцията не става много ясно тя какво връща - дали не връща нищо, а само изпълнява проверки и странични ефекти, или пък проверява валидността на номера и връща `bool`, или пък връща някакъв тип за грешка при неуспех, а `None` при успех?"
   ]
  },
  {
   "cell_type": "markdown",
   "metadata": {},
   "source": [
    "## Type Hints and `mypy`"
   ]
  },
  {
   "cell_type": "markdown",
   "metadata": {},
   "source": [
    "От Python 3.5 насам можем да пишем \"подсказки\" за очаквания тип (или очакваните типове, в случай че са повече от един).\n",
    "\n",
    "В случая функцията можем да я анотираме по следния начин:"
   ]
  },
  {
   "cell_type": "code",
   "execution_count": 2,
   "metadata": {},
   "outputs": [],
   "source": [
    "def validate_serial_number(serial_number: str) -> bool:\n",
    "    pass  # ..."
   ]
  },
  {
   "cell_type": "markdown",
   "metadata": {},
   "source": [
    "Трябва да се отбележи, че тези анотации са само hints (\"подсказки\" за програмиста), т.е. не получаваме поведението на статично типизираните езици, тъй като интерпретатора не следи за спазването на анотациите:"
   ]
  },
  {
   "cell_type": "code",
   "execution_count": 4,
   "metadata": {},
   "outputs": [
    {
     "name": "stdout",
     "output_type": "stream",
     "text": [
      "Passing `int`:  3\n",
      "Passing `str`:  12\n"
     ]
    }
   ],
   "source": [
    "def add(a: int, b: int) -> int:\n",
    "    return a + b\n",
    "\n",
    "print(\"Passing `int`: \", add(1, 2))\n",
    "print(\"Passing `str`: \", add(\"1\", \"2\"))"
   ]
  },
  {
   "cell_type": "markdown",
   "metadata": {},
   "source": [
    "Това въпросно следене може да стане чрез т.нар. \"type checkers\". Най-използваният е [mypy](http://mypy-lang.org/).\n",
    "\n",
    "В PyCharm би трябвало по подразбиране да е включено, докато във VS Code може да се включи от настройките на [Python extension-a](https://marketplace.visualstudio.com/items?itemName=ms-python.python):\n",
    "\n",
    "![mypy in VS Code](assets/mypy-vscode.png)\n",
    "\n",
    "При включването на настройката за пръв път би трябвало да се покаже долу вдясно диалогов попъп, от който да може да се инсталира `mypy` автоматично."
   ]
  },
  {
   "cell_type": "markdown",
   "metadata": {},
   "source": [
    "След включването, всяка некоректност ще се показва като грешка във VSCode по подобен начин:\n",
    "\n",
    "![mypy in action](assets/mypy-in-action.png)"
   ]
  }
 ],
 "metadata": {
  "kernelspec": {
   "display_name": "Python 3.10.6 64-bit",
   "language": "python",
   "name": "python3"
  },
  "language_info": {
   "codemirror_mode": {
    "name": "ipython",
    "version": 3
   },
   "file_extension": ".py",
   "mimetype": "text/x-python",
   "name": "python",
   "nbconvert_exporter": "python",
   "pygments_lexer": "ipython3",
   "version": "3.10.6"
  },
  "orig_nbformat": 4,
  "vscode": {
   "interpreter": {
    "hash": "b0fa6594d8f4cbf19f97940f81e996739fb7646882a419484c72d19e05852a7e"
   }
  }
 },
 "nbformat": 4,
 "nbformat_minor": 2
}
